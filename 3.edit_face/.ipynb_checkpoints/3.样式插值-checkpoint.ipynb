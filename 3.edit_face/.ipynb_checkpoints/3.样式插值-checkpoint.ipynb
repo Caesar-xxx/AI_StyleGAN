{
 "cells": [
  {
   "cell_type": "code",
   "execution_count": 1,
   "id": "91a5b5ed-82ce-4c22-9112-4f8c08ba5749",
   "metadata": {},
   "outputs": [
    {
     "name": "stderr",
     "output_type": "stream",
     "text": [
      "C:\\conda\\envs\\face_edit\\lib\\site-packages\\tqdm\\auto.py:22: TqdmWarning: IProgress not found. Please update jupyter and ipywidgets. See https://ipywidgets.readthedocs.io/en/stable/user_install.html\n",
      "  from .autonotebook import tqdm as notebook_tqdm\n"
     ]
    }
   ],
   "source": [
    "import math\n",
    "import os\n",
    "import torch\n",
    "from PIL import Image\n",
    "import numpy as np\n",
    "from model import StyledGenerator\n",
    "import tqdm\n",
    "import matplotlib.pyplot as plt\n",
    "from IPython.display import Video\n",
    "import glob\n",
    "import cv2\n",
    "from natsort import natsorted # pip install natsort"
   ]
  },
  {
   "cell_type": "code",
   "execution_count": 2,
   "id": "ad573597-510d-4fa0-84ff-d517ba3e09f9",
   "metadata": {},
   "outputs": [],
   "source": [
    "## 生成图片\n",
    "def make_image(tensor):\n",
    "    return (\n",
    "        tensor.detach()\n",
    "        .clamp_(min=-1, max=1)\n",
    "        .add(1)\n",
    "        .div_(2)\n",
    "        .mul(255)\n",
    "        .type(torch.uint8)\n",
    "        .permute(0, 2, 3, 1)\n",
    "        .to(\"cpu\")\n",
    "        .numpy()\n",
    "    )\n"
   ]
  },
  {
   "cell_type": "code",
   "execution_count": 3,
   "id": "9958dd2e-1d46-4b01-a175-621ce6183371",
   "metadata": {},
   "outputs": [],
   "source": [
    "# 加载模型\n",
    "device = torch.device(\"cuda\" if torch.cuda.is_available() else \"cpu\")\n",
    "\n",
    "## 载入模型\n",
    "netG = StyledGenerator(512)\n",
    "netG.load_state_dict(torch.load('./checkpoints/stylegan-1024px-new.model',map_location=device)[\"g_running\"], strict=False)\n",
    "netG.eval()\n",
    "netG = netG.to(device)\n",
    "step = int(math.log(1024, 2)) - 2"
   ]
  },
  {
   "cell_type": "code",
   "execution_count": null,
   "id": "df7283f7-a8ff-4a4b-8cd9-cb92482b8586",
   "metadata": {},
   "outputs": [],
   "source": []
  },
  {
   "cell_type": "code",
   "execution_count": 4,
   "id": "f0a24c13-aedf-4abb-8076-2fc193bb8992",
   "metadata": {},
   "outputs": [],
   "source": [
    "def generateMix(face1_name,face2_name,mode='z_mode',samples=30):\n",
    "    ## 载入向量\n",
    "    latent_in_1 = torch.from_numpy(np.load(face1_name + '.npy')).to(device)\n",
    "    latent_in_2 = torch.from_numpy(np.load(face2_name + '.npy')).to(device)\n",
    "    \n",
    "    # 增加维度\n",
    "    if len(latent_in_1.shape) == 1:\n",
    "        latent_in_1 = latent_in_1.unsqueeze(0)\n",
    "    if len(latent_in_2.shape) == 1:\n",
    "        latent_in_2 = latent_in_2.unsqueeze(0)\n",
    "        \n",
    "    # 合成插值画面，并存储\n",
    "    for i in tqdm.tqdm(range(samples)):\n",
    "        lamda = float(i)/float(samples)\n",
    "        \n",
    "        ## 样式混合后的向量，z = lamda * z1 + (1-lamda) * z2\n",
    "        new_latent = lamda * latent_in_1 + (1-lamda) * latent_in_2\n",
    "        # 基于Z混合\n",
    "        if mode=='z_mode':\n",
    "            \n",
    "            img_gen = netG([new_latent], step=step) ##生成的图片\n",
    "            img_name = './output/interpolation_z/{}.png'.format(i)\n",
    "        else:\n",
    "            # 基于W混合\n",
    "            img_gen = netG([latent_in_1],mean_style=new_latent,step=step,style_weight=0) ##生成的图片\n",
    "            img_name = './output/interpolation_w/{}.png'.format(i)            \n",
    "        \n",
    "        img_ar = make_image(img_gen)\n",
    "        pil_img = Image.fromarray(img_ar[0])\n",
    "        \n",
    "        pil_img.save(img_name) "
   ]
  },
  {
   "cell_type": "code",
   "execution_count": 5,
   "id": "37a7cd1c-0a31-4cf8-b5ae-4823e1b4b136",
   "metadata": {},
   "outputs": [],
   "source": [
    "# 合称为视频\n",
    "def animatePics(mode='z_mode',img_size = (512,512)):\n",
    "        \n",
    "    if mode == 'z_mode':\n",
    "        video_name = './output/interpolation_z/output.mp4'\n",
    "    else:\n",
    "        video_name = './output/interpolation_w/output.mp4'        \n",
    "    # 删除原来的视频文件\n",
    "    if os.path.exists(video_name):\n",
    "        os.unlink(video_name)\n",
    "        \n",
    "     # 获取文件列表\n",
    "    if mode == 'z_mode':\n",
    "        filelist = natsorted( glob.glob('./output/interpolation_z/*'))\n",
    "    else:\n",
    "        filelist = natsorted( glob.glob('./output/interpolation_w/*'))\n",
    "            \n",
    "        \n",
    "    # 视频写入\n",
    "    videoWriter = cv2.VideoWriter(video_name, cv2.VideoWriter_fourcc(*'H264'), 25, img_size)\n",
    "\n",
    "    for index in tqdm.tqdm(range(len(filelist))):\n",
    "        # 读取图片\n",
    "        img = cv2.imread(filelist[index])\n",
    "        \n",
    "        # resize\n",
    "        img = cv2.resize(img,img_size)\n",
    "        # 写入\n",
    "        videoWriter.write(img)\n",
    "        \n",
    "    videoWriter.release()   \n",
    "    \n",
    "    return Video(video_name,embed=True)"
   ]
  },
  {
   "cell_type": "code",
   "execution_count": null,
   "id": "584493ce-f629-459f-b94a-2021b6d4b4de",
   "metadata": {},
   "outputs": [],
   "source": []
  },
  {
   "cell_type": "code",
   "execution_count": 6,
   "id": "e37b855f-5144-4a0a-90e7-1ea29ed65c2f",
   "metadata": {},
   "outputs": [
    {
     "name": "stderr",
     "output_type": "stream",
     "text": [
      "100%|██████████████████████████████████████████████████████████████████████████████████| 50/50 [01:07<00:00,  1.34s/it]\n"
     ]
    }
   ],
   "source": [
    "# Z 模式\n",
    "generateMix('./latents/z/fake3','./latents/z/fake2','z_mode',50)"
   ]
  },
  {
   "cell_type": "code",
   "execution_count": 8,
   "id": "fbf21680-e19c-46f9-b5b7-73998c660aa2",
   "metadata": {},
   "outputs": [],
   "source": [
    "animatePics('z_mode',(500,500))"
   ]
  },
  {
   "cell_type": "code",
   "execution_count": null,
   "id": "d8993681-f289-42cb-9b33-b56161c21d93",
   "metadata": {},
   "outputs": [],
   "source": [
    "# W 模式\n",
    "generateMix('./latents/w/fake3','./latents/w/fake2','w_mode',50)"
   ]
  },
  {
   "cell_type": "code",
   "execution_count": null,
   "id": "537e9a91-957e-46df-89e0-ac42706fc863",
   "metadata": {},
   "outputs": [],
   "source": [
    "animatePics('w_mode',(500,500))"
   ]
  },
  {
   "cell_type": "code",
   "execution_count": null,
   "id": "3f435eff-6994-45a1-a760-a7af2568e166",
   "metadata": {},
   "outputs": [],
   "source": []
  },
  {
   "cell_type": "code",
   "execution_count": null,
   "id": "f79b002a-3eec-4a36-bad8-a22e735e0fe5",
   "metadata": {},
   "outputs": [],
   "source": [
    "# Z转W模式\n",
    "generateMix('./latents/z/related_w/fake3','./latents/z/related_w/fake2','w_mode',50)"
   ]
  },
  {
   "cell_type": "code",
   "execution_count": null,
   "id": "d3640c3c-6768-47f0-9104-5cd115caf6b5",
   "metadata": {},
   "outputs": [],
   "source": [
    "animatePics('w_mode',(500,500))"
   ]
  },
  {
   "cell_type": "code",
   "execution_count": null,
   "id": "cd44a307-7003-46fe-9564-9ac5558f201f",
   "metadata": {},
   "outputs": [],
   "source": []
  }
 ],
 "metadata": {
  "kernelspec": {
   "display_name": "Python 3 (ipykernel)",
   "language": "python",
   "name": "python3"
  },
  "language_info": {
   "codemirror_mode": {
    "name": "ipython",
    "version": 3
   },
   "file_extension": ".py",
   "mimetype": "text/x-python",
   "name": "python",
   "nbconvert_exporter": "python",
   "pygments_lexer": "ipython3",
   "version": "3.8.13"
  }
 },
 "nbformat": 4,
 "nbformat_minor": 5
}
