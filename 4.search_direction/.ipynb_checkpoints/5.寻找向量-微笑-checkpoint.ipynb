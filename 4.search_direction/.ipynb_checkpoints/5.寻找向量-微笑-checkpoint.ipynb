{
 "cells": [
  {
   "cell_type": "code",
   "execution_count": 1,
   "id": "49b153eb-8e39-4683-a292-2ad9a390f005",
   "metadata": {},
   "outputs": [],
   "source": [
    "# 导入相关包\n",
    "\n",
    "import numpy as np\n",
    "import sys\n",
    "import os\n",
    "import tqdm\n",
    "import matplotlib.pyplot as plt\n",
    "##Demo演示LogisticRegression分类\n",
    "from sklearn.linear_model import LogisticRegression\n",
    "\n",
    "\n",
    "## 构造数据集\n",
    "import glob"
   ]
  },
  {
   "cell_type": "code",
   "execution_count": 2,
   "id": "4c50cd02-e1a8-425b-bb93-0e48169fa1f0",
   "metadata": {},
   "outputs": [],
   "source": [
    "possamples =  glob.glob('./training_data_smile/w/w_Happy*.npy')\n",
    "negsamples =  glob.glob('./training_data_smile/w/w_Neutral*.npy')\n",
    "\n",
    "\n",
    "# possamples =  glob.glob('./training_data/z/z_Happy*.npy')\n",
    "# negsamples =  glob.glob('./training_data/z/z_Neutral*.npy')"
   ]
  },
  {
   "cell_type": "code",
   "execution_count": 3,
   "id": "4ebcfc61-b564-4c12-9193-86d239b45110",
   "metadata": {},
   "outputs": [
    {
     "data": {
      "text/plain": [
       "(5000, 5000)"
      ]
     },
     "execution_count": 3,
     "metadata": {},
     "output_type": "execute_result"
    }
   ],
   "source": [
    "len(possamples),len(negsamples)"
   ]
  },
  {
   "cell_type": "code",
   "execution_count": 4,
   "id": "3de855e0-743d-4bfa-9d38-7e8819758c5a",
   "metadata": {},
   "outputs": [
    {
     "name": "stderr",
     "output_type": "stream",
     "text": [
      "100%|████████████████████████████████████████████████████████████████████████████| 5000/5000 [00:02<00:00, 1951.34it/s]\n",
      "100%|████████████████████████████████████████████████████████████████████████████| 5000/5000 [00:02<00:00, 1951.24it/s]\n"
     ]
    }
   ],
   "source": [
    "x_features = []\n",
    "y_label = []\n",
    "for sample in tqdm.tqdm(possamples):\n",
    "    feature = np.squeeze(np.load(sample))\n",
    "    x_features.append(list(feature))\n",
    "    y_label.append(1)\n",
    "\n",
    "for sample in tqdm.tqdm(negsamples):\n",
    "    sample = sample.strip()\n",
    "    feature = np.squeeze(np.load(sample))\n",
    "    x_features.append(list(feature))\n",
    "    y_label.append(0)\n",
    "x_features = np.array(x_features)\n",
    "y_label = np.array(y_label)\n"
   ]
  },
  {
   "cell_type": "code",
   "execution_count": 5,
   "id": "f4af1b6b-c801-43ff-b75b-5305c703ca41",
   "metadata": {},
   "outputs": [
    {
     "data": {
      "text/plain": [
       "((10000, 512), (10000,))"
      ]
     },
     "execution_count": 5,
     "metadata": {},
     "output_type": "execute_result"
    }
   ],
   "source": [
    "x_features.shape,y_label.shape"
   ]
  },
  {
   "cell_type": "code",
   "execution_count": null,
   "id": "bacbff59-46dd-4c4d-b69f-e9afccddbc51",
   "metadata": {},
   "outputs": [],
   "source": [
    "## 调用逻辑回归模型\n",
    "lr_clf = LogisticRegression()\n",
    "\n",
    "## 用逻辑回归模型拟合构造的数据集\n",
    "lr_clf = lr_clf.fit(x_features, y_label) #其拟合方程为 y=w*x+b\n"
   ]
  },
  {
   "cell_type": "code",
   "execution_count": null,
   "id": "cc1b7a92-e18c-47f4-a331-860600ae776a",
   "metadata": {},
   "outputs": [],
   "source": [
    "# 保存方向向量\n",
    "np.save('./output_latent/smile_w.npy',lr_clf.coef_)"
   ]
  },
  {
   "cell_type": "code",
   "execution_count": null,
   "id": "21a21705-f0f5-40a3-87ea-ab3057a10797",
   "metadata": {},
   "outputs": [],
   "source": []
  },
  {
   "cell_type": "code",
   "execution_count": null,
   "id": "ee6d587a-fddd-463d-b0dd-3b5daf169cc3",
   "metadata": {},
   "outputs": [],
   "source": []
  },
  {
   "cell_type": "code",
   "execution_count": null,
   "id": "bc8ccedf-ee97-4cd9-af91-ef6cf803bc1a",
   "metadata": {},
   "outputs": [],
   "source": []
  }
 ],
 "metadata": {
  "kernelspec": {
   "display_name": "Python 3 (ipykernel)",
   "language": "python",
   "name": "python3"
  },
  "language_info": {
   "codemirror_mode": {
    "name": "ipython",
    "version": 3
   },
   "file_extension": ".py",
   "mimetype": "text/x-python",
   "name": "python",
   "nbconvert_exporter": "python",
   "pygments_lexer": "ipython3",
   "version": "3.8.13"
  }
 },
 "nbformat": 4,
 "nbformat_minor": 5
}
